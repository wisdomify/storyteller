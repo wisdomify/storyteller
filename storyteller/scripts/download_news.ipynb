{
 "cells": [
  {
   "cell_type": "code",
   "execution_count": 1,
   "id": "abc11fe3",
   "metadata": {},
   "outputs": [],
   "source": [
    "import requests\n",
    "import json\n",
    "import sys\n",
    "import os\n",
    "sys.path.append(os.path.dirname(os.path.abspath(os.path.dirname(os.path.abspath('')))))\n",
    "\n",
    "from storyteller.secrets import NEWS_API_KEY\n",
    "from storyteller.paths import NEWS_DIR"
   ]
  },
  {
   "cell_type": "code",
   "execution_count": 2,
   "id": "59fe13f4",
   "metadata": {},
   "outputs": [],
   "source": [
    "my_key = NEWS_API_KEY"
   ]
  },
  {
   "cell_type": "code",
   "execution_count": 3,
   "id": "d6f565a3",
   "metadata": {},
   "outputs": [],
   "source": [
    "data_form = {\n",
    "    \"access_key\": my_key,\n",
    "    \"argument\": {\n",
    "        \"query\": \"산 넘어 산\",\n",
    "        \"published_at\": {\n",
    "            \"from\": \"2019-01-01\",\n",
    "            \"until\": \"2019-03-31\"\n",
    "        },\n",
    "        \"provider\": [\n",
    "            \"경향신문\",\n",
    "            \"국민일보\",\n",
    "            \"내일신문\",\n",
    "            \"동아일보\",\n",
    "            \"문화일보\",\n",
    "            \"서울신문\",\n",
    "            \"세계일보\",\n",
    "            \"조선일보\",\n",
    "            \"중앙일보\",\n",
    "            \"한겨레신문\",\n",
    "            \"강원도민일보\",\n",
    "            \"강원일보\",\n",
    "            \"경기일보\",\n",
    "            \"경남도민일보\",\n",
    "            \"경남신문\",\n",
    "            \"경상일보\",\n",
    "            \"경인일보\",\n",
    "            \"광주매일신문\",\n",
    "            \"광주일보\",\n",
    "            \"국제신문\",\n",
    "            \"대구일보\",\n",
    "            \"대전일보\",\n",
    "            \"매일신문\",\n",
    "            \"무등일보\",\n",
    "            \"부산일보\",\n",
    "            \"영남일보\",\n",
    "            \"울산매일\",\n",
    "            \"전남일보\",\n",
    "            \"전북도민일보\",\n",
    "            \"전북일보\",\n",
    "            \"제민일보\",\n",
    "            \"중도일보\",\n",
    "            \"중부매일\",\n",
    "            \"중부일보\",\n",
    "            \"충북일보\",\n",
    "            \"충청일보\",\n",
    "            \"충청투데이\",\n",
    "            \"한라일보\",\n",
    "            \"\"\n",
    "        ],\n",
    "        \"sort\": {\"date\": \"desc\"},\n",
    "        \"hilight\": 100,\n",
    "        \"return_from\": 0,\n",
    "        \"return_size\": 10000,\n",
    "        \"fields\": [\n",
    "            \"byline\",\n",
    "            \"category\",\n",
    "            \"category_incident\",\n",
    "            \"provider_news_id\"\n",
    "        ]\n",
    "    }\n",
    "}"
   ]
  },
  {
   "cell_type": "code",
   "execution_count": 4,
   "id": "0586add2",
   "metadata": {},
   "outputs": [],
   "source": [
    "url = 'http://tools.kinds.or.kr:8888/search/news'\n",
    "response = requests.post(url, json.dumps(data_form))"
   ]
  },
  {
   "cell_type": "code",
   "execution_count": 5,
   "id": "12a52940",
   "metadata": {},
   "outputs": [
    {
     "name": "stdout",
     "output_type": "stream",
     "text": [
      "dict_keys(['result', 'return_object'])\n",
      "num of documents : 907\n"
     ]
    }
   ],
   "source": [
    "res = response.json()\n",
    "print(res.keys())\n",
    "print('num of documents :', len(res['return_object']['documents']))"
   ]
  },
  {
   "cell_type": "code",
   "execution_count": 6,
   "id": "aa545404",
   "metadata": {},
   "outputs": [],
   "source": [
    "wisdoms = [\n",
    "    '원숭이도 나무에서 떨어진다',\n",
    "    '산넘어 산',\n",
    "    '등잔 밑이 어둡다',\n",
    "    '가는 날이 장날',\n",
    "    '고래 싸움에 새우 등 터진다',\n",
    "    '꿩 대신 닭',\n",
    "    '갈수록 태산',\n",
    "    '핑계 없는 무덤 없다',\n",
    "    '서당개 삼 년이면 풍월을 읊는다',\n",
    "    '소문난 잔치에 먹을 것 없다'\n",
    "]"
   ]
  },
  {
   "cell_type": "code",
   "execution_count": 7,
   "id": "f2b2146b",
   "metadata": {},
   "outputs": [],
   "source": [
    "sent_list = []\n",
    "for wisdom in wisdoms:\n",
    "    data_form['query'] = wisdom\n",
    "    \n",
    "    response = requests.post(url, json.dumps(data_form))\n",
    "    res = response.json()\n",
    "    documents = res['return_object']['documents']\n",
    "    \n",
    "    for document in documents:\n",
    "        title = document['title']\n",
    "        provider = document['provider']\n",
    "        hilight = document['hilight']\n",
    "        date = document['dateline']\n",
    "        title = title.replace('<b>', '').replace('</b>', '')\n",
    "        sent = hilight.replace('<b>', '').replace('</b>', '')\n",
    "        \n",
    "        sent_dict = {}\n",
    "        sent_dict['title'] = title\n",
    "        sent_dict['provider'] = provider\n",
    "        sent_dict['sent'] = sent\n",
    "        sent_dict['date'] = date\n",
    "        sent_list.append(sent_dict)\n"
   ]
  },
  {
   "cell_type": "code",
   "execution_count": 8,
   "id": "565cf0a1",
   "metadata": {
    "scrolled": true
   },
   "outputs": [
    {
     "data": {
      "text/plain": [
       "9070"
      ]
     },
     "execution_count": 8,
     "metadata": {},
     "output_type": "execute_result"
    }
   ],
   "source": [
    "len(sent_list)"
   ]
  },
  {
   "cell_type": "code",
   "execution_count": 9,
   "id": "8e1feae2",
   "metadata": {
    "scrolled": true
   },
   "outputs": [
    {
     "name": "stdout",
     "output_type": "stream",
     "text": [
      "[{'title': \"425일간 '까칠'달고 살았던 김의겸을 돌아본다 [박태훈의 스토리뉴스]\", 'provider': '세계일보', 'sent': '..어제 KB.. 어렵게 어렵게 떼고 있는 걸음이 무겁습니다\"고 딴지 걸지 말라고 싸움을 걸었다...\\'이게 어떻게 하는 겁니까?\\'라고 물어 제가 하트 만드는 방법을 알려줬더니 ..', 'date': '2019-03-30T08:01:52.000+09:00'}, {'title': '기술 있는 혁신·중소기업에 담보없이 3년간 100兆 공급', 'provider': '영남일보', 'sent': ' 우선 현재의 전통 제조업 기준에서 벗어나 바이오·4차산업 등 업종별로 상장기준이 차별화된다...산업은행이 중견기업을 중심으로 7조원, 기업은행이 중소기업에 3조원을 각각 공급..', 'date': '2019-03-30T07:47:50.000+09:00'}, {'title': '경영 어려움 겪는 지역車부품업체 ‘가뭄에 단비’', 'provider': '영남일보', 'sent': '..산 경제계에도 도움이 같은 상황에서 지역 연고 업체의 한국GM 군산공장.. 군산공장 폐쇄로 감소한 군산지역의 총생산액은 전체의 16%인 2조3천억원에 이른 것으로 추산됐다...', 'date': '2019-03-30T07:16:37.000+09:00'}, {'title': '[데이터로 여는 공공의 창]4월·5월엔 무슨 일이 있을까…점쟁이 대신 빅데이터에 물어봐', 'provider': '경향신문', 'sent': '‘산업’은 일자리·산업위기지역·산업생산·거제 등의 어휘와 함께 노출됐습니다.....산과..‘가구’는 분야·아파트·고독사·다자녀·보금자리·1인가구 등의 어휘와 함께 노출됐습니다...', 'date': '2019-03-30T06:02:17.000+09:00'}, {'title': '‘투기 의혹’ 장관 후보자에 불똥 … 일부 낙마 불가피할 듯', 'provider': '세계일보', 'sent': '“단순 부동산 투기를 넘어 위법 여부까지 들여다봐야 한다”고 주장했다...“너무 구차한 변명이어서 하지 않으려 했지만 떠나는 마당이니 털어놓고 가겠다.....산 제집이 35억,..', 'date': '2019-03-30T06:02:16.000+09:00'}]\n"
     ]
    }
   ],
   "source": [
    "sent_dict = {'sents': sent_list}\n",
    "print(sent_dict['sents'][:5])"
   ]
  },
  {
   "cell_type": "code",
   "execution_count": 10,
   "id": "78bfd0ad",
   "metadata": {},
   "outputs": [],
   "source": [
    "news_path = os.path.join(NEWS_DIR, 'news_data.json')"
   ]
  },
  {
   "cell_type": "code",
   "execution_count": 11,
   "id": "871d117f",
   "metadata": {
    "scrolled": false
   },
   "outputs": [],
   "source": [
    "with open(news_path, 'w+', encoding='utf-8') as make_file:\n",
    "    json.dump(sent_dict, make_file)"
   ]
  },
  {
   "cell_type": "code",
   "execution_count": 12,
   "id": "e5845cdb",
   "metadata": {},
   "outputs": [
    {
     "name": "stdout",
     "output_type": "stream",
     "text": [
      "[{'title': \"425일간 '까칠'달고 살았던 김의겸을 돌아본다 [박태훈의 스토리뉴스]\", 'provider': '세계일보', 'sent': '..어제 KB.. 어렵게 어렵게 떼고 있는 걸음이 무겁습니다\"고 딴지 걸지 말라고 싸움을 걸었다...\\'이게 어떻게 하는 겁니까?\\'라고 물어 제가 하트 만드는 방법을 알려줬더니 ..', 'date': '2019-03-30T08:01:52.000+09:00'}, {'title': '기술 있는 혁신·중소기업에 담보없이 3년간 100兆 공급', 'provider': '영남일보', 'sent': ' 우선 현재의 전통 제조업 기준에서 벗어나 바이오·4차산업 등 업종별로 상장기준이 차별화된다...산업은행이 중견기업을 중심으로 7조원, 기업은행이 중소기업에 3조원을 각각 공급..', 'date': '2019-03-30T07:47:50.000+09:00'}, {'title': '경영 어려움 겪는 지역車부품업체 ‘가뭄에 단비’', 'provider': '영남일보', 'sent': '..산 경제계에도 도움이 같은 상황에서 지역 연고 업체의 한국GM 군산공장.. 군산공장 폐쇄로 감소한 군산지역의 총생산액은 전체의 16%인 2조3천억원에 이른 것으로 추산됐다...', 'date': '2019-03-30T07:16:37.000+09:00'}, {'title': '[데이터로 여는 공공의 창]4월·5월엔 무슨 일이 있을까…점쟁이 대신 빅데이터에 물어봐', 'provider': '경향신문', 'sent': '‘산업’은 일자리·산업위기지역·산업생산·거제 등의 어휘와 함께 노출됐습니다.....산과..‘가구’는 분야·아파트·고독사·다자녀·보금자리·1인가구 등의 어휘와 함께 노출됐습니다...', 'date': '2019-03-30T06:02:17.000+09:00'}, {'title': '‘투기 의혹’ 장관 후보자에 불똥 … 일부 낙마 불가피할 듯', 'provider': '세계일보', 'sent': '“단순 부동산 투기를 넘어 위법 여부까지 들여다봐야 한다”고 주장했다...“너무 구차한 변명이어서 하지 않으려 했지만 떠나는 마당이니 털어놓고 가겠다.....산 제집이 35억,..', 'date': '2019-03-30T06:02:16.000+09:00'}]\n"
     ]
    }
   ],
   "source": [
    "with open(news_path, 'r', encoding='utf-8') as f:\n",
    "    json_data = json.load(f)\n",
    "    print(json_data['sents'][:5])"
   ]
  }
 ],
 "metadata": {
  "interpreter": {
   "hash": "8476b9642d22d158e75c7e8b3502727365eb0c4c0dcda798f00fe54926405d8c"
  },
  "kernelspec": {
   "display_name": "Python 3 (ipykernel)",
   "language": "python",
   "name": "python3"
  },
  "language_info": {
   "codemirror_mode": {
    "name": "ipython",
    "version": 3
   },
   "file_extension": ".py",
   "mimetype": "text/x-python",
   "name": "python",
   "nbconvert_exporter": "python",
   "pygments_lexer": "ipython3",
   "version": "3.9.6"
  }
 },
 "nbformat": 4,
 "nbformat_minor": 5
}
