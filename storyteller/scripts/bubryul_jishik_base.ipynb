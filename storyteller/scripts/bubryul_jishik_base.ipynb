{
 "cells": [
  {
   "cell_type": "code",
   "execution_count": 1,
   "metadata": {
    "collapsed": true,
    "trusted": false
   },
   "outputs": [],
   "source": [
    "import sys\n",
    "import os\n",
    "import json\n",
    "\n",
    "from pprint import pprint\n",
    "from functools import reduce"
   ]
  },
  {
   "cell_type": "code",
   "execution_count": 2,
   "outputs": [
    {
     "name": "stdout",
     "output_type": "stream",
     "text": [
      "A\tstoryteller/scripts/bubryul_jishik_base.ipynb\r\n",
      "M\tstoryteller/utils/gcp_dataloader.py\r\n",
      "Already on 'issue/4'\r\n",
      "Your branch is up to date with 'origin/issue/4'.\r\n"
     ]
    }
   ],
   "source": [
    "!git checkout issue/4\n",
    "!source ../../venv/bin/activate"
   ],
   "metadata": {
    "collapsed": false,
    "pycharm": {
     "name": "#%%\n"
    },
    "trusted": false
   }
  },
  {
   "cell_type": "code",
   "execution_count": 3,
   "outputs": [],
   "source": [
    "from storyteller.utils.gcp_dataloader import GCPStorage\n",
    "from storyteller.utils.elastic_controller import ElasticController"
   ],
   "metadata": {
    "collapsed": false,
    "pycharm": {
     "name": "#%%\n"
    }
   }
  },
  {
   "cell_type": "code",
   "execution_count": 4,
   "outputs": [],
   "source": [
    "# GCP Storage 프로젝트 환경변수 설정\n",
    "os.environ[\"GCLOUD_PROJECT\"] = \"wisdomify-323515\"\n",
    "\n",
    "gcp_storage = GCPStorage('wisdomify')\n",
    "es_controller = ElasticController(\n",
    "    cloud_id = \"https://storyteller.es.asia-northeast3.gcp.elastic-cloud.com:9243/\",\n",
    "    user_id = \"ArtemisDicoTiar\",\n",
    "    user_pw = \"H^&3141592\",\n",
    "    index_name=\"wisdom2eg\"\n",
    ")"
   ],
   "metadata": {
    "collapsed": false,
    "pycharm": {
     "name": "#%%\n"
    },
    "trusted": false
   }
  },
  {
   "cell_type": "code",
   "execution_count": 5,
   "outputs": [
    {
     "name": "stdout",
     "output_type": "stream",
     "text": [
      "Successfully created the directory: ./story/elastic/법률 지식베이스\n",
      "Successfully created the directory: ./story/elastic/법률 지식베이스/법령용어\n",
      "Successfully created the directory: ./story/elastic/법률 지식베이스/법령지식\n",
      "Successfully created the directory: ./story/elastic/법률 지식베이스/법률데이터\n"
     ]
    },
    {
     "name": "stderr",
     "output_type": "stream",
     "text": [
      "100%|██████████| 15.5M/15.5M [00:01<00:00, 13.3MB/s]\n"
     ]
    },
    {
     "name": "stdout",
     "output_type": "stream",
     "text": [
      "\n",
      "Successful download: story/elastic/법률 지식베이스/법령용어/법령용어(Json).zip\n",
      "\n",
      "Successful unzip: 법령용어(Json)_nia_law_term_ontology_사전_20180117.json\n"
     ]
    },
    {
     "name": "stderr",
     "output_type": "stream",
     "text": [
      "100%|██████████| 187M/187M [00:10<00:00, 18.9MB/s]   \n"
     ]
    },
    {
     "name": "stdout",
     "output_type": "stream",
     "text": [
      "\n",
      "Successful download: story/elastic/법률 지식베이스/법령지식/법령지식_관련판례(Json).zip\n",
      "\n",
      "Successful unzip: 법령지식_관련판례(Json)_nia_law_ontology_판례_20180117.json\n"
     ]
    },
    {
     "name": "stderr",
     "output_type": "stream",
     "text": [
      "100%|██████████| 586k/586k [00:00<00:00, 3.92MB/s] "
     ]
    },
    {
     "name": "stdout",
     "output_type": "stream",
     "text": [
      "\n",
      "Successful download: story/elastic/법률 지식베이스/법령지식/법령지식_교통사고(Json).zip\n"
     ]
    },
    {
     "name": "stderr",
     "output_type": "stream",
     "text": [
      "\n"
     ]
    },
    {
     "name": "stdout",
     "output_type": "stream",
     "text": [
      "\n",
      "Successful unzip: 법령지식_교통사고(Json)_nia_law_ontology_교통사고법령_20180117.json\n"
     ]
    },
    {
     "name": "stderr",
     "output_type": "stream",
     "text": [
      "100%|██████████| 3.19M/3.19M [00:00<00:00, 9.49MB/s]\n"
     ]
    },
    {
     "name": "stdout",
     "output_type": "stream",
     "text": [
      "\n",
      "Successful download: story/elastic/법률 지식베이스/법령지식/법령지식_창업인허가(Json).zip\n",
      "\n",
      "Successful unzip: 법령지식_창업인허가(Json)_nia_law_ontology_창업인허가법령_20180117.json\n"
     ]
    },
    {
     "name": "stderr",
     "output_type": "stream",
     "text": [
      "100%|██████████| 272k/272k [00:00<00:00, 2.42MB/s] \n"
     ]
    },
    {
     "name": "stdout",
     "output_type": "stream",
     "text": [
      "\n",
      "Successful download: story/elastic/법률 지식베이스/법령지식/법령지식_층간소음(Json).zip\n",
      "\n",
      "Successful unzip: 법령지식_층간소음(Json)_nia_law_ontology_층간소음법령_20180117.json\n"
     ]
    },
    {
     "name": "stderr",
     "output_type": "stream",
     "text": [
      "100%|██████████| 9.50M/9.50M [00:00<00:00, 12.6MB/s]\n"
     ]
    },
    {
     "name": "stdout",
     "output_type": "stream",
     "text": [
      "\n",
      "Successful download: story/elastic/법률 지식베이스/법률데이터/법률데이터_법령.zip\n",
      "\n",
      "Successful unzip: 법률데이터_법령_nia_law_data_law/\n"
     ]
    },
    {
     "name": "stderr",
     "output_type": "stream",
     "text": [
      "100%|██████████| 4.28M/4.28M [00:00<00:00, 10.5MB/s]\n"
     ]
    },
    {
     "name": "stdout",
     "output_type": "stream",
     "text": [
      "\n",
      "Successful download: story/elastic/법률 지식베이스/법률데이터/법률데이터_생활법령.zip\n",
      "\n",
      "Successful unzip: 법률데이터_생활법령_nia_law_data_common/\n"
     ]
    },
    {
     "name": "stderr",
     "output_type": "stream",
     "text": [
      "100%|██████████| 1.42M/1.42M [00:00<00:00, 6.32MB/s]"
     ]
    },
    {
     "name": "stdout",
     "output_type": "stream",
     "text": [
      "\n",
      "Successful download: story/elastic/법률 지식베이스/법률데이터/법률데이터_판례.zip\n",
      "\n",
      "Successful unzip: 법률데이터_판례_nia_law_data_case/\n"
     ]
    },
    {
     "name": "stderr",
     "output_type": "stream",
     "text": [
      "\n"
     ]
    }
   ],
   "source": [
    "gcp_storage.download('story/elastic/법률 지식베이스', './', unzip=True)"
   ],
   "metadata": {
    "collapsed": false,
    "pycharm": {
     "name": "#%%\n"
    },
    "trusted": false
   }
  },
  {
   "cell_type": "code",
   "execution_count": 6,
   "outputs": [],
   "source": [
    "panrae = json.load(open('story/elastic/법률 지식베이스/법령지식/법령지식_관련판례(Json)_nia_law_ontology_판례_20180117.json'))\n",
    "gyotong = json.load(open('story/elastic/법률 지식베이스/법령지식/법령지식_교통사고(Json)_nia_law_ontology_교통사고법령_20180117.json'))\n",
    "changup = json.load(open('story/elastic/법률 지식베이스/법령지식/법령지식_창업인허가(Json)_nia_law_ontology_창업인허가법령_20180117.json'))\n",
    "soum = json.load(open('story/elastic/법률 지식베이스/법령지식/법령지식_층간소음(Json)_nia_law_ontology_층간소음법령_20180117.json'))\n"
   ],
   "metadata": {
    "collapsed": false,
    "pycharm": {
     "name": "#%%\n"
    },
    "trusted": false
   }
  },
  {
   "cell_type": "code",
   "execution_count": 7,
   "outputs": [
    {
     "name": "stderr",
     "output_type": "stream",
     "text": [
      "IOPub data rate exceeded.\n",
      "The notebook server will temporarily stop sending output\n",
      "to the client in order to avoid crashing it.\n",
      "To change this limit, set the config variable\n",
      "`--NotebookApp.iopub_data_rate_limit`.\n",
      "\n",
      "Current values:\n",
      "NotebookApp.iopub_data_rate_limit=1000000.0 (bytes/sec)\n",
      "NotebookApp.rate_limit_window=3.0 (secs)\n",
      "\n"
     ]
    }
   ],
   "source": [
    "# 무의미한 데이터 close."
   ],
   "metadata": {
    "collapsed": false,
    "pycharm": {
     "name": "#%%\n"
    },
    "trusted": false
   }
  }
 ],
 "metadata": {
  "kernelspec": {
   "display_name": "Python 3",
   "language": "python",
   "name": "python3"
  },
  "language_info": {
   "codemirror_mode": {
    "name": "ipython",
    "version": 2
   },
   "file_extension": ".py",
   "mimetype": "text/x-python",
   "name": "python",
   "nbconvert_exporter": "python",
   "pygments_lexer": "ipython2",
   "version": "2.7.6"
  }
 },
 "nbformat": 4,
 "nbformat_minor": 0
}