{
 "cells": [
  {
   "cell_type": "code",
   "execution_count": 31,
   "metadata": {
    "collapsed": true
   },
   "outputs": [
    {
     "name": "stdout",
     "output_type": "stream",
     "text": [
      "fatal: A branch named 'issue/4' already exists.\r\n",
      "M\tstoryteller/scripts/gamsung_daehwa.ipynb\r\n",
      "Already on 'issue/4'\r\n",
      "Your branch is up to date with 'origin/issue/4'.\r\n"
     ]
    }
   ],
   "source": [
    "import os\n",
    "!git branch issue/4\n",
    "!git checkout issue/4"
   ]
  },
  {
   "cell_type": "code",
   "execution_count": 32,
   "outputs": [],
   "source": [
    "!source ../../venv/bin/activate"
   ],
   "metadata": {
    "collapsed": false,
    "pycharm": {
     "name": "#%%\n"
    }
   }
  },
  {
   "cell_type": "code",
   "execution_count": 33,
   "outputs": [],
   "source": [
    "import sys\n",
    "import os\n",
    "\n",
    "# GCP Storage 프로젝트 환경변수 설정\n",
    "os.environ[\"GCLOUD_PROJECT\"] = \"wisdomify-323515\""
   ],
   "metadata": {
    "collapsed": false,
    "pycharm": {
     "name": "#%%\n"
    }
   }
  },
  {
   "cell_type": "code",
   "execution_count": 34,
   "outputs": [],
   "source": [
    "# 실행한는 디렉토리 수정\n",
    "sys.path.insert(0, '/workspace')\n",
    "\n",
    "from storyteller.storyteller.utils.gcp_dataloader import GCPStorage\n",
    "from storyteller.storyteller.utils.elastic_controller import ElasticController"
   ],
   "metadata": {
    "collapsed": false,
    "pycharm": {
     "name": "#%%\n"
    }
   }
  },
  {
   "cell_type": "code",
   "execution_count": 35,
   "outputs": [],
   "source": [
    "gcp_storage = GCPStorage('wisdomify')\n",
    "es_controller = ElasticController(\n",
    "    cloud_id = \"https://storyteller.es.asia-northeast3.gcp.elastic-cloud.com:9243/\",\n",
    "    user_id = \"ArtemisDicoTiar\",\n",
    "    user_pw = \"H^&3141592\",\n",
    "    index_name=\"wisdom2eg\"\n",
    ")"
   ],
   "metadata": {
    "collapsed": false,
    "pycharm": {
     "name": "#%%\n"
    }
   }
  },
  {
   "cell_type": "code",
   "execution_count": 36,
   "outputs": [
    {
     "name": "stdout",
     "output_type": "stream",
     "text": [
      "Successfully created the directory: ./story/elastic/감성대화\n",
      "Successfully created the directory: ./story/elastic/감성대화/Training\n",
      "Successfully created the directory: ./story/elastic/감성대화/Validation\n"
     ]
    },
    {
     "name": "stderr",
     "output_type": "stream",
     "text": [
      "100%|██████████| 28.3M/28.3M [00:00<00:00, 97.6MB/s]\n"
     ]
    },
    {
     "name": "stdout",
     "output_type": "stream",
     "text": [
      "\n",
      "Successful download: story/elastic/감성대화/Training/감성대화말뭉치(원천데이터)_Training.zip\n"
     ]
    },
    {
     "name": "stderr",
     "output_type": "stream",
     "text": [
      "100%|██████████| 20.5M/20.5M [00:00<00:00, 101MB/s] \n"
     ]
    },
    {
     "name": "stdout",
     "output_type": "stream",
     "text": [
      "\n",
      "Successful download: story/elastic/감성대화/Training/감성대화말뭉치(최종데이터)_Training.zip\n"
     ]
    },
    {
     "name": "stderr",
     "output_type": "stream",
     "text": [
      "100%|██████████| 3.54M/3.54M [00:00<00:00, 37.1MB/s]\n"
     ]
    },
    {
     "name": "stdout",
     "output_type": "stream",
     "text": [
      "\n",
      "Successful download: story/elastic/감성대화/Validation/감성대화말뭉치(원천데이터)_Validation.zip\n"
     ]
    },
    {
     "name": "stderr",
     "output_type": "stream",
     "text": [
      "100%|██████████| 2.12M/2.12M [00:00<00:00, 25.3MB/s]"
     ]
    },
    {
     "name": "stdout",
     "output_type": "stream",
     "text": [
      "\n",
      "Successful download: story/elastic/감성대화/Validation/감성대화말뭉치(최종데이터)_Validation.zip\n"
     ]
    },
    {
     "name": "stderr",
     "output_type": "stream",
     "text": [
      "\n"
     ]
    }
   ],
   "source": [
    "gcp_storage.download('story/elastic/감성대화', './')"
   ],
   "metadata": {
    "collapsed": false,
    "pycharm": {
     "name": "#%%\n"
    }
   }
  },
  {
   "cell_type": "code",
   "execution_count": 37,
   "outputs": [],
   "source": [
    "import json"
   ],
   "metadata": {
    "collapsed": false,
    "pycharm": {
     "name": "#%%\n"
    }
   }
  },
  {
   "cell_type": "code",
   "execution_count": 38,
   "outputs": [],
   "source": [
    "train = json.load(open('./story/elastic/감성대화/Training/감성대화말뭉치(최종데이터)_Training.json'))\n",
    "validate = json.load(open('./story/elastic/감성대화/Validation/감성대화말뭉치(최종데이터)_Validation.json'))\n",
    "total = train + validate"
   ],
   "metadata": {
    "collapsed": false,
    "pycharm": {
     "name": "#%%\n"
    }
   }
  },
  {
   "cell_type": "code",
   "execution_count": 39,
   "outputs": [
    {
     "name": "stdout",
     "output_type": "stream",
     "text": [
      "Train: 40827\n",
      "Validate: 5122\n",
      "Total: 45949\n"
     ]
    }
   ],
   "source": [
    "print(f\"Train: {len(train)}\\nValidate: {len(validate)}\\nTotal: {len(total)}\")"
   ],
   "metadata": {
    "collapsed": false,
    "pycharm": {
     "name": "#%%\n"
    }
   }
  },
  {
   "cell_type": "code",
   "execution_count": 40,
   "outputs": [
    {
     "name": "stdout",
     "output_type": "stream",
     "text": [
      "{'profile': {'emotion': {'emotion-id': 'S05_D02_E68',\n",
      "                         'situation': ['S05', 'D02'],\n",
      "                         'type': 'E68'},\n",
      "             'persona': {'computer': ['C01'],\n",
      "                         'human': ['A02', 'G01'],\n",
      "                         'persona-id': 'A02_G01_C01'},\n",
      "             'persona-id': 'Pro_03719'},\n",
      " 'talk': {'content': {'HS01': '아내가 드디어 출산하게 되어서 정말 신이 나.',\n",
      "                      'HS02': '아 지금 정말 신이 나.',\n",
      "                      'HS03': '아기가 점점 클게 벌써 기대가 되네. 내가 많이 놀아줘야지. ',\n",
      "                      'SS01': '아내분이 출산을 하시는군요. 정말 축하드려요.',\n",
      "                      'SS02': '잘 된 일이네요.',\n",
      "                      'SS03': '좋은 아빠가 되실 거 같아요. 진심으로 축하드려요.'},\n",
      "          'id': {'profile-id': 'Pro_03719', 'talk-id': 'Pro_03719_00016'}}}\n"
     ]
    }
   ],
   "source": [
    "from pprint import pprint\n",
    "pprint(total[0])"
   ],
   "metadata": {
    "collapsed": false,
    "pycharm": {
     "name": "#%%\n"
    }
   }
  },
  {
   "cell_type": "code",
   "execution_count": 41,
   "outputs": [],
   "source": [
    "data = list(map(\n",
    "    lambda case: {\n",
    "        'sentence': ' '.join(case['talk']['content'].values()),\n",
    "        'id': case['talk']['id'],\n",
    "        'dataset': '감성대화'\n",
    "    },\n",
    "    total\n",
    "))"
   ],
   "metadata": {
    "collapsed": false,
    "pycharm": {
     "name": "#%%\n"
    }
   }
  },
  {
   "cell_type": "code",
   "execution_count": 42,
   "outputs": [
    {
     "data": {
      "text/plain": "45949"
     },
     "execution_count": 42,
     "metadata": {},
     "output_type": "execute_result"
    }
   ],
   "source": [
    "len(data)"
   ],
   "metadata": {
    "collapsed": false,
    "pycharm": {
     "name": "#%%\n"
    }
   }
  },
  {
   "cell_type": "code",
   "execution_count": 43,
   "outputs": [
    {
     "name": "stdout",
     "output_type": "stream",
     "text": [
      "{'dataset': '감성대화',\n",
      " 'id': {'profile-id': 'Pro_10653', 'talk-id': 'Pro_10653_00005'},\n",
      " 'sentence': '새로 간 치과에서 조금 썩기만 한 이를 임플란트를 하라고 했어. 과잉진료는 안 한다더니. 이가 조금 썩기만 했는데도 '\n",
      "             '임플란트를 해야 한다고 했다는 말씀이시군요. 예전에 다니던 치과에서는 심하지 않은 충치니까 관리만 하라고 했는데 '\n",
      "             '말이야. 오히려 신뢰가 떨어지네. 새 치과가 과잉 진료를 하는 것 같아 믿음이 안 가시는군요. 이 상황에서 앞으로 '\n",
      "             '어떻게 하실건가요? 좀 멀어도 이사 오기 전에 살던 동네의 믿을만한 옛 치과를 가야겠어. 믿을만한 치과에서 진료가 '\n",
      "             '잘 되기를 바랄게요.'}\n"
     ]
    }
   ],
   "source": [
    "pprint(data[10])"
   ],
   "metadata": {
    "collapsed": false,
    "pycharm": {
     "name": "#%%\n"
    }
   }
  },
  {
   "cell_type": "code",
   "execution_count": 45,
   "outputs": [
    {
     "ename": "ValueError",
     "evalue": "Invalid info: (bulk is False) info must be dictionary .",
     "output_type": "error",
     "traceback": [
      "\u001B[0;31m---------------------------------------------------------------------------\u001B[0m",
      "\u001B[0;31mValueError\u001B[0m                                Traceback (most recent call last)",
      "\u001B[0;32m/tmp/ipykernel_7132/2111713149.py\u001B[0m in \u001B[0;36m<module>\u001B[0;34m\u001B[0m\n\u001B[0;32m----> 1\u001B[0;31m \u001B[0mes_controller\u001B[0m\u001B[0;34m.\u001B[0m\u001B[0mwrite\u001B[0m\u001B[0;34m(\u001B[0m\u001B[0mdata\u001B[0m\u001B[0;34m,\u001B[0m \u001B[0mbulk\u001B[0m\u001B[0;34m=\u001B[0m\u001B[0;32mTrue\u001B[0m\u001B[0;34m)\u001B[0m\u001B[0;34m\u001B[0m\u001B[0;34m\u001B[0m\u001B[0m\n\u001B[0m",
      "\u001B[0;32m/workspace/storyteller/storyteller/utils/elastic_controller.py\u001B[0m in \u001B[0;36mwrite\u001B[0;34m(self, info, bulk)\u001B[0m\n\u001B[1;32m     60\u001B[0m         \u001B[0;32melse\u001B[0m\u001B[0;34m:\u001B[0m\u001B[0;34m\u001B[0m\u001B[0;34m\u001B[0m\u001B[0m\n\u001B[1;32m     61\u001B[0m             \u001B[0;32mif\u001B[0m \u001B[0mtype\u001B[0m\u001B[0;34m(\u001B[0m\u001B[0minfo\u001B[0m\u001B[0;34m)\u001B[0m \u001B[0;34m!=\u001B[0m \u001B[0mdict\u001B[0m\u001B[0;34m:\u001B[0m\u001B[0;34m\u001B[0m\u001B[0;34m\u001B[0m\u001B[0m\n\u001B[0;32m---> 62\u001B[0;31m                 \u001B[0;32mraise\u001B[0m \u001B[0mValueError\u001B[0m\u001B[0;34m(\u001B[0m\u001B[0;34m\"Invalid info: (bulk is True) info must be List of dictionary.\"\u001B[0m\u001B[0;34m)\u001B[0m\u001B[0;34m\u001B[0m\u001B[0;34m\u001B[0m\u001B[0m\n\u001B[0m\u001B[1;32m     63\u001B[0m \u001B[0;34m\u001B[0m\u001B[0m\n\u001B[1;32m     64\u001B[0m         \u001B[0;32mif\u001B[0m \u001B[0mbulk\u001B[0m\u001B[0;34m:\u001B[0m\u001B[0;34m\u001B[0m\u001B[0;34m\u001B[0m\u001B[0m\n",
      "\u001B[0;31mValueError\u001B[0m: Invalid info: (bulk is False) info must be dictionary ."
     ]
    }
   ],
   "source": [
    "es_controller.write(data, bulk=True)"
   ],
   "metadata": {
    "collapsed": false,
    "pycharm": {
     "name": "#%%\n"
    }
   }
  }
 ],
 "metadata": {
  "kernelspec": {
   "display_name": "Python 3",
   "language": "python",
   "name": "python3"
  },
  "language_info": {
   "codemirror_mode": {
    "name": "ipython",
    "version": 2
   },
   "file_extension": ".py",
   "mimetype": "text/x-python",
   "name": "python",
   "nbconvert_exporter": "python",
   "pygments_lexer": "ipython2",
   "version": "2.7.6"
  }
 },
 "nbformat": 4,
 "nbformat_minor": 0
}