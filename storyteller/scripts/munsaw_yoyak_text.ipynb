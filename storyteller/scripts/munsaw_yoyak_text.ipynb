{
 "cells": [
  {
   "cell_type": "code",
   "execution_count": 1,
   "metadata": {
    "collapsed": true,
    "trusted": false
   },
   "outputs": [],
   "source": [
    "import sys\n",
    "import os\n",
    "import json\n",
    "\n",
    "from pprint import pprint\n",
    "from functools import reduce"
   ]
  },
  {
   "cell_type": "code",
   "execution_count": 2,
   "outputs": [
    {
     "name": "stdout",
     "output_type": "stream",
     "text": [
      "A\tstoryteller/scripts/munsaw_yoyak_text.ipynb\r\n",
      "M\tstoryteller/utils/elastic_controller.py\r\n",
      "Already on 'issue/4'\r\n",
      "Your branch is up to date with 'origin/issue/4'.\r\n"
     ]
    }
   ],
   "source": [
    "!git checkout issue/4\n",
    "!source ../../venv/bin/activate"
   ],
   "metadata": {
    "collapsed": false,
    "pycharm": {
     "name": "#%%\n"
    },
    "trusted": false
   }
  },
  {
   "cell_type": "code",
   "execution_count": 3,
   "outputs": [],
   "source": [
    "from storyteller.utils.gcp_dataloader import GCPStorage\n",
    "from storyteller.utils.elastic_controller import ElasticController"
   ],
   "metadata": {
    "collapsed": false,
    "pycharm": {
     "name": "#%%\n"
    }
   }
  },
  {
   "cell_type": "code",
   "execution_count": 4,
   "outputs": [],
   "source": [
    "# GCP Storage 프로젝트 환경변수 설정\n",
    "os.environ[\"GCLOUD_PROJECT\"] = \"wisdomify-323515\"\n",
    "\n",
    "gcp_storage = GCPStorage('wisdomify')\n",
    "es_controller = ElasticController(\n",
    "    cloud_id = \"https://storyteller.es.asia-northeast3.gcp.elastic-cloud.com:9243/\",\n",
    "    user_id = \"ArtemisDicoTiar\",\n",
    "    user_pw = \"H^&3141592\",\n",
    "    index_name=\"wisdom2eg\"\n",
    ")"
   ],
   "metadata": {
    "collapsed": false,
    "pycharm": {
     "name": "#%%\n"
    },
    "trusted": false
   }
  },
  {
   "cell_type": "code",
   "execution_count": 5,
   "outputs": [
    {
     "name": "stdout",
     "output_type": "stream",
     "text": [
      "Successfully created the directory: ./story/elastic/문서요약 텍스트\n",
      "Successfully created the directory: ./story/elastic/문서요약 텍스트/Training\n",
      "Successfully created the directory: ./story/elastic/문서요약 텍스트/Validation\n"
     ]
    },
    {
     "name": "stderr",
     "output_type": "stream",
     "text": [
      "100%|██████████| 17.7M/17.7M [00:01<00:00, 11.3MB/s]\n"
     ]
    },
    {
     "name": "stdout",
     "output_type": "stream",
     "text": [
      "\n",
      "Successful download: story/elastic/문서요약 텍스트/Training/법률_train_original.zip\n",
      "\n",
      "Successful unzip: 법률_train_original_train_original.json\n"
     ]
    },
    {
     "name": "stderr",
     "output_type": "stream",
     "text": [
      "100%|██████████| 82.6M/82.6M [00:09<00:00, 9.26MB/s]\n"
     ]
    },
    {
     "name": "stdout",
     "output_type": "stream",
     "text": [
      "\n",
      "Successful download: story/elastic/문서요약 텍스트/Training/사설잡지_train_original.zip\n",
      "\n",
      "Successful unzip: 사설잡지_train_original_train_original.json\n"
     ]
    },
    {
     "name": "stderr",
     "output_type": "stream",
     "text": [
      "100%|██████████| 296M/296M [00:20<00:00, 14.8MB/s]   \n"
     ]
    },
    {
     "name": "stdout",
     "output_type": "stream",
     "text": [
      "\n",
      "Successful download: story/elastic/문서요약 텍스트/Training/신문기사_train_original.zip\n",
      "\n",
      "Successful unzip: 신문기사_train_original_train_original.json\n"
     ]
    },
    {
     "name": "stderr",
     "output_type": "stream",
     "text": [
      "100%|██████████| 1.64M/1.64M [00:00<00:00, 1.94MB/s]\n"
     ]
    },
    {
     "name": "stdout",
     "output_type": "stream",
     "text": [
      "\n",
      "Successful download: story/elastic/문서요약 텍스트/Validation/법률_vaild_original.zip\n",
      "\n",
      "Successful unzip: 법률_vaild_original_vaild_original.json\n"
     ]
    },
    {
     "name": "stderr",
     "output_type": "stream",
     "text": [
      "100%|██████████| 7.87M/7.87M [00:01<00:00, 5.44MB/s]\n"
     ]
    },
    {
     "name": "stdout",
     "output_type": "stream",
     "text": [
      "\n",
      "Successful download: story/elastic/문서요약 텍스트/Validation/사설잡지_vaild_original.zip\n",
      "\n",
      "Successful unzip: 사설잡지_vaild_original_vaild_original.json\n"
     ]
    },
    {
     "name": "stderr",
     "output_type": "stream",
     "text": [
      "100%|██████████| 34.1M/34.1M [00:03<00:00, 10.8MB/s]\n"
     ]
    },
    {
     "name": "stdout",
     "output_type": "stream",
     "text": [
      "\n",
      "Successful download: story/elastic/문서요약 텍스트/Validation/신문기사_vaild_original.zip\n",
      "\n",
      "Successful unzip: 신문기사_vaild_original_vaild_original.json\n"
     ]
    }
   ],
   "source": [
    "gcp_storage.download('story/elastic/문서요약 텍스트', './', unzip=True)"
   ],
   "metadata": {
    "collapsed": false,
    "pycharm": {
     "name": "#%%\n"
    },
    "trusted": false
   }
  },
  {
   "cell_type": "code",
   "execution_count": 6,
   "outputs": [],
   "source": [
    "law_train = json.load(open('./story/elastic/문서요약 텍스트/Training/법률_train_original_train_original.json'))\n",
    "sasul_train = json.load(open('./story/elastic/문서요약 텍스트/Training/사설잡지_train_original_train_original.json'))\n",
    "news_train = json.load(open('./story/elastic/문서요약 텍스트/Training/신문기사_train_original_train_original.json'))\n",
    "\n",
    "law_valid = json.load(open('./story/elastic/문서요약 텍스트/Validation/법률_vaild_original_vaild_original.json'))\n",
    "sasul_valid = json.load(open('./story/elastic/문서요약 텍스트/Validation/사설잡지_vaild_original_vaild_original.json'))\n",
    "news_valid = json.load(open('./story/elastic/문서요약 텍스트/Validation/신문기사_vaild_original_vaild_original.json'))\n"
   ],
   "metadata": {
    "collapsed": false,
    "pycharm": {
     "name": "#%%\n"
    },
    "trusted": false
   }
  },
  {
   "cell_type": "code",
   "execution_count": 7,
   "outputs": [
    {
     "name": "stdout",
     "output_type": "stream",
     "text": [
      "law_train: dict_keys(['name', 'delivery_date', 'documents'])\n",
      "sasul_train: dict_keys(['name', 'delivery_date', 'documents'])\n",
      "news_train: dict_keys(['name', 'delivery_date', 'documents'])\n",
      "law_valid: dict_keys(['name', 'delivery_date', 'documents'])\n",
      "sasul_valid: dict_keys(['name', 'delivery_date', 'documents'])\n",
      "news_valid: dict_keys(['name', 'delivery_date', 'documents'])\n"
     ]
    }
   ],
   "source": [
    "print(f\"law_train: {law_train.keys()}\")\n",
    "print(f\"sasul_train: {sasul_train.keys()}\")\n",
    "print(f\"news_train: {news_train.keys()}\")\n",
    "print(f\"law_valid: {law_valid.keys()}\")\n",
    "print(f\"sasul_valid: {sasul_valid.keys()}\")\n",
    "print(f\"news_valid: {news_valid.keys()}\")"
   ],
   "metadata": {
    "collapsed": false,
    "pycharm": {
     "name": "#%%\n"
    },
    "trusted": false
   }
  },
  {
   "cell_type": "code",
   "execution_count": 8,
   "outputs": [
    {
     "name": "stdout",
     "output_type": "stream",
     "text": [
      "law_train: 27033\n",
      "sasul_train: 63067\n",
      "news_train: 271093\n",
      "law_valid: 3004\n",
      "sasul_valid: 7008\n",
      "news_valid: 30122\n"
     ]
    }
   ],
   "source": [
    "print(f\"law_train: {len(law_train['documents'])}\")\n",
    "print(f\"sasul_train: {len(sasul_train['documents'])}\")\n",
    "print(f\"news_train: {len(news_train['documents'])}\")\n",
    "print(f\"law_valid: {len(law_valid['documents'])}\")\n",
    "print(f\"sasul_valid: {len(sasul_valid['documents'])}\")\n",
    "print(f\"news_valid: {len(news_valid['documents'])}\")"
   ],
   "metadata": {
    "collapsed": false,
    "pycharm": {
     "name": "#%%\n"
    },
    "trusted": false
   }
  },
  {
   "cell_type": "code",
   "execution_count": 9,
   "outputs": [],
   "source": [
    "docs = law_train['documents'] \\\n",
    "    + sasul_train['documents'] \\\n",
    "    + news_train['documents'] \\\n",
    "    + law_valid['documents'] \\\n",
    "    + sasul_valid['documents'] \\\n",
    "    + news_valid['documents']"
   ],
   "metadata": {
    "collapsed": false,
    "pycharm": {
     "name": "#%%\n"
    }
   }
  },
  {
   "cell_type": "code",
   "execution_count": 10,
   "outputs": [
    {
     "name": "stdout",
     "output_type": "stream",
     "text": [
      "[[{'highlight_indices': '', 'index': 0, 'sentence': '금융기관이 기업의 시설자금을 대출하고'},\n",
      "  {'highlight_indices': '0,1;36,38',\n",
      "   'index': 1,\n",
      "   'sentence': '그 관리를 위해 개설한 소위 여신 관리자금 계정은 실제의 대출을 아직 실행하지 아니하였으면서도,'},\n",
      "  {'highlight_indices': '', 'index': 2, 'sentence': '시설자금 대출승인만 나면,'},\n",
      "  {'highlight_indices': '0,1;2,4;16,17;23,25;59,60',\n",
      "   'index': 3,\n",
      "   'sentence': '곧 바로 대출이 실행되었다가 그 대출금을 다시 예금한 것 같은 형식과 외관을 갖추어 두었다가 일정한 조건 즉,'},\n",
      "  {'highlight_indices': '', 'index': 4, 'sentence': '공사진행에 따른 시설확인을 받으면'},\n",
      "  {'highlight_indices': '5,8;9,10;24,27',\n",
      "   'index': 5,\n",
      "   'sentence': '그때서야 비로소 그 공정비율 만큼의 자금을 실제로 대출하여 주면서,'},\n",
      "  {'highlight_indices': '0,2;16,18',\n",
      "   'index': 6,\n",
      "   'sentence': '미리 받아둔 선이자 해당액도 함께 환급하여 줌으로써 시설자금의 공급을 확보하고'},\n",
      "  {'highlight_indices': '52,53',\n",
      "   'index': 7,\n",
      "   'sentence': '낮은 이자의 정책적 시설자금의 유용을 방지하기 위한 금융기관의 대출금 사후관리제도의 하나로서 그 형식과 외관은 '\n",
      "               '예금인 것처럼 보이나,'},\n",
      "  {'highlight_indices': '0,1',\n",
      "   'index': 8,\n",
      "   'sentence': '그 실체는 정책적 필요에서 나온 기술적인 장부조작으로서 어디까지나 대출금에 지나지 아니하며 이에 관한 환출이자도 '\n",
      "               '예금이자라고 할 수 없다.'}]]\n"
     ]
    }
   ],
   "source": [
    "pprint(docs[100]['text'])"
   ],
   "metadata": {
    "collapsed": false,
    "pycharm": {
     "name": "#%%\n"
    }
   }
  },
  {
   "cell_type": "code",
   "execution_count": 11,
   "outputs": [],
   "source": [
    "data = list(map(\n",
    "    lambda doc: {\n",
    "        'dataset': '문서요약 자료',\n",
    "        'doc_id': doc['id'],\n",
    "        'title': doc['title'],\n",
    "        'sentence': ' '.join(list(map(\n",
    "            lambda text: text['sentence'],\n",
    "            reduce(\n",
    "                lambda i, j: i + j,\n",
    "                doc['text']\n",
    "            )\n",
    "        )))\n",
    "    },\n",
    "    docs\n",
    "))\n"
   ],
   "metadata": {
    "collapsed": false,
    "pycharm": {
     "name": "#%%\n"
    }
   }
  },
  {
   "cell_type": "code",
   "execution_count": 12,
   "outputs": [
    {
     "data": {
      "text/plain": "401327"
     },
     "execution_count": 12,
     "metadata": {},
     "output_type": "execute_result"
    }
   ],
   "source": [
    "len(data)"
   ],
   "metadata": {
    "collapsed": false,
    "pycharm": {
     "name": "#%%\n"
    },
    "trusted": false
   }
  },
  {
   "cell_type": "code",
   "execution_count": 13,
   "outputs": [
    {
     "name": "stdout",
     "output_type": "stream",
     "text": [
      "{'dataset': '문서요약 자료',\n",
      " 'doc_id': '100032',\n",
      " 'sentence': '주식의 편취에 관하여는 주식회사가 주권을 발행하기 전이면 위 주식이 표창하는 재산적 이익이 처분되면 당사자 사이에는 '\n",
      "             '유효하게 이를 편취하게 되어 불법이득죄가 성립되나, 주권발행 후이면 주권은 주식의 일정 단위가 화체된 유가증권으로서 '\n",
      "             '그 자체가 재산적 가치를 지닌 재물이므로 그 주식이 기명주식 또는 무기명주식이냐에 따라 각 그 양도방법에 의하여 '\n",
      "             '주권이 교부되는 때에 재물편취죄의 기수가 된다.',\n",
      " 'title': '사기'}\n"
     ]
    }
   ],
   "source": [
    "pprint(data[10])"
   ],
   "metadata": {
    "collapsed": false,
    "pycharm": {
     "name": "#%%\n"
    },
    "trusted": false
   }
  },
  {
   "cell_type": "code",
   "execution_count": 14,
   "outputs": [
    {
     "name": "stderr",
     "output_type": "stream",
     "text": [
      "/Users/JohnJongyoonKim/Documents/projects/storyteller/venv/lib/python3.7/site-packages/elasticsearch/connection/base.py:209: ElasticsearchWarning: [types removal] Specifying types in bulk requests is deprecated.\n",
      "  warnings.warn(message, category=ElasticsearchWarning)\n"
     ]
    },
    {
     "data": {
      "text/plain": "{'success': 150, 'fail': 0, 'fail_seq': []}"
     },
     "execution_count": 14,
     "metadata": {},
     "output_type": "execute_result"
    }
   ],
   "source": [
    "es_controller.write(data, bulk=True, batch_size=100)"
   ],
   "metadata": {
    "collapsed": false,
    "pycharm": {
     "name": "#%%\n"
    },
    "trusted": false
   }
  }
 ],
 "metadata": {
  "kernelspec": {
   "display_name": "Python 3",
   "language": "python",
   "name": "python3"
  },
  "language_info": {
   "codemirror_mode": {
    "name": "ipython",
    "version": 2
   },
   "file_extension": ".py",
   "mimetype": "text/x-python",
   "name": "python",
   "nbconvert_exporter": "python",
   "pygments_lexer": "ipython2",
   "version": "2.7.6"
  }
 },
 "nbformat": 4,
 "nbformat_minor": 0
}